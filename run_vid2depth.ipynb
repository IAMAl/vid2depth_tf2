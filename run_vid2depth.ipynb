{
 "cells": [
  {
   "cell_type": "markdown",
   "metadata": {},
   "source": [
    "# vid2depth for TensorFLow2\n",
    "\n",
    "Depth Estimation from Mono-Camera Video: vid2depth (TensorFlow < ver.2.0)\n",
    "\n",
    "https://github.com/tensorflow/models/tree/master/research/vid2depth\n",
    "\n",
    "DEMO:\n",
    "https://sites.google.com/view/vid2depth/demo#h.p_L8uj7PGVclqA\n",
    "\n",
    "This vid2depth_tf2 is **TensorFLow ver.2.0 or higher**.\n",
    "\n",
    "This script makes directories of\n",
    "- kitti-raw-uncompressed: dataset storage\n",
    "- data: dataset generation\n",
    "- checkpoints: training checkpoint files\n",
    "- inference: inference result storage\n",
    "\n",
    "**License**\n",
    "\n",
    "Apache License, Version 2.0"
   ]
  },
  {
   "cell_type": "markdown",
   "metadata": {},
   "source": [
    "### Downloading Training Dataset\n",
    "**NOTE**: This takes time (loading Hundreds of GiB)"
   ]
  },
  {
   "cell_type": "code",
   "execution_count": null,
   "metadata": {},
   "outputs": [],
   "source": [
    "!mkdir -p ./kitti-raw-uncompressed\n",
    "!cd ./kitti-raw-uncompressed\n",
    "!wget https://github.com/mrharicot/monodepth/blob/master/utils/kitti_archives_to_download.txt\n",
    "!wget -i kitti_archives_to_download.txt\n",
    "!unzip \"*.zip\"\n",
    "!cd .."
   ]
  },
  {
   "cell_type": "markdown",
   "metadata": {},
   "source": [
    "### Composing Training Dataset\n",
    "**NOTE**: This takes time (composing from big number of files)"
   ]
  },
  {
   "cell_type": "code",
   "execution_count": null,
   "metadata": {},
   "outputs": [],
   "source": [
    "!python3 dataset/gen_data.py \\\n",
    "  --dataset_name kitti_raw_eigen \\\n",
    "  --dataset_dir kitti-raw-uncompressed \\\n",
    "  --data_dir data/kitti_raw_eigen \\\n",
    "  --seq_length 3"
   ]
  },
  {
   "cell_type": "markdown",
   "metadata": {},
   "source": [
    "### Run Training\n",
    "**NOTE**: Google web-site does not have trained model (pb file), you must train."
   ]
  },
  {
   "cell_type": "code",
   "execution_count": null,
   "metadata": {},
   "outputs": [],
   "source": [
    "!python3 ./train.py \\\n",
    "          --data_dir data/kitti_raw_eigen \\\n",
    "          --seq_length 3 \\\n",
    "          --reconstr_weight 0.85 \\\n",
    "          --smooth_weight 0.05 \\\n",
    "          --ssim_weight 0.15 \\\n",
    "          --icp_weight 0 \\\n",
    "          --checkpoint_dir checkpoints"
   ]
  },
  {
   "cell_type": "markdown",
   "metadata": {},
   "source": [
    "### Run Inference"
   ]
  },
  {
   "cell_type": "code",
   "execution_count": null,
   "metadata": {},
   "outputs": [],
   "source": [
    "!python3 ./inference.py \\\n",
    "  --kitti_dir kitti-raw-uncompressed \\\n",
    "  --output_dir inference \\\n",
    "  --kitti_video 2011_09_26/2011_09_26_drive_0009_sync \\\n",
    "  --model_ckpt checkpoints/model-179244"
   ]
  },
  {
   "cell_type": "code",
   "execution_count": null,
   "metadata": {},
   "outputs": [],
   "source": []
  }
 ],
 "metadata": {
  "kernelspec": {
   "display_name": "Python 3",
   "language": "python",
   "name": "python3"
  },
  "language_info": {
   "codemirror_mode": {
    "name": "ipython",
    "version": 3
   },
   "file_extension": ".py",
   "mimetype": "text/x-python",
   "name": "python",
   "nbconvert_exporter": "python",
   "pygments_lexer": "ipython3",
   "version": "3.8.2"
  }
 },
 "nbformat": 4,
 "nbformat_minor": 4
}
